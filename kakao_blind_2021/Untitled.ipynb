{
 "cells": [
  {
   "cell_type": "markdown",
   "metadata": {},
   "source": [
    "## 필요 API\n"
   ]
  },
  {
   "cell_type": "code",
   "execution_count": 1,
   "metadata": {},
   "outputs": [],
   "source": [
    "import requests\n",
    "import json \n",
    "\n",
    "# GET \n",
    "def rest_get(url):\n",
    "    response = requests.get(url) \n",
    "    # print(str(response.status_code) + \" | \" + response.text) \n",
    "    return json.loads(response.text)\n",
    "\n",
    "def rest_get_raw(url, header):\n",
    "    response = requests.get(url, headers=header) \n",
    "    return json.loads(response.text)\n",
    "\n",
    "# POST (JSON) \n",
    "def rest_post(url, token, data):\n",
    "    header = {'X-Auth-Token': token, 'Content-Type': 'application/json; chearset=utf-8'}\n",
    "    response = requests.post(url, data=json.dumps(data), headers=header) \n",
    "    # print(str(response.status_code) + \" | \" + response.text)\n",
    "    return json.loads(response.text)\n",
    "\n",
    "def rest_post_raw(url, header, data):\n",
    "    response = requests.post(url, data=json.dumps(data), headers=header) \n",
    "    return json.loads(response.text)\n",
    "\n",
    "def rest_put_raw(url, header, data):\n",
    "    response = requests.put(url, data=json.dumps(data), headers=header)\n",
    "#     print(str(response.status_code) + \" | \" + response.text)\n",
    "    return json.loads(response.text)"
   ]
  },
  {
   "cell_type": "code",
   "execution_count": 2,
   "metadata": {},
   "outputs": [],
   "source": [
    "BASE_URL = 'https://huqeyhi95c.execute-api.ap-northeast-2.amazonaws.com/prod'\n",
    "LEADER_BOARD_URL = 'https://si1kddo29f.execute-api.ap-northeast-2.amazonaws.com/prod/leaderboard'\n",
    "X_AUTH_TOKEN = \"a21ffa7f526d9fa87ec8107ddf9926bf\""
   ]
  },
  {
   "cell_type": "markdown",
   "metadata": {},
   "source": [
    "## API call"
   ]
  },
  {
   "cell_type": "code",
   "execution_count": 19,
   "metadata": {},
   "outputs": [],
   "source": [
    "#  start \n",
    "url = f\"{BASE_URL}/start\"\n",
    "data = {\"problem\": 1}\n",
    "start = rest_post(url, X_AUTH_TOKEN, data)\n",
    "auth_key = start[\"auth_key\"]"
   ]
  },
  {
   "cell_type": "code",
   "execution_count": 20,
   "metadata": {},
   "outputs": [],
   "source": [
    "# waiting line API return List\n",
    "def waitingLineAPI():\n",
    "    url = f\"{BASE_URL}/waiting_line\"\n",
    "    header = {'Authorization': auth_key, 'Content-Type': 'application/json'}\n",
    "    waitingLine = rest_get_raw(url, header)\n",
    "    return waitingLine[\"waiting_line\"]"
   ]
  },
  {
   "cell_type": "code",
   "execution_count": 21,
   "metadata": {},
   "outputs": [],
   "source": [
    "# game result API return List\n",
    "def gameResultAPI():\n",
    "    url = f\"{BASE_URL}/game_result\"\n",
    "    header = {'Authorization': auth_key, 'Content-Type': 'application/json'}\n",
    "    gameResult = rest_get_raw(url, header)\n",
    "    return gameResult[\"game_result\"]"
   ]
  },
  {
   "cell_type": "code",
   "execution_count": 22,
   "metadata": {},
   "outputs": [],
   "source": [
    "# user info API return List\n",
    "def userInfoAPI():\n",
    "    url = f\"{BASE_URL}/user_info\"\n",
    "    header = {'Authorization': auth_key, 'Content-Type': 'application/json'}\n",
    "    userInfo = rest_get_raw(url, header)\n",
    "    return userInfo[\"user_info\"]"
   ]
  },
  {
   "cell_type": "code",
   "execution_count": 31,
   "metadata": {},
   "outputs": [],
   "source": [
    "# match API\n",
    "def matchAPI(data):\n",
    "    url = f\"{BASE_URL}/match\"\n",
    "    header = {'Authorization': auth_key, 'Content-Type': 'application/json'}\n",
    "    match = rest_put_raw(url, header, data)\n",
    "    return match\n",
    "\n",
    "# data format\n",
    "# data = {\n",
    "#     \"pairs\": [[1, 2], [9, 7], [11, 49]]\n",
    "# }"
   ]
  },
  {
   "cell_type": "code",
   "execution_count": 32,
   "metadata": {},
   "outputs": [],
   "source": [
    "# change grade API -> decide after game result \n",
    "def changeGradeAPI(data):\n",
    "    url = f\"{BASE_URL}/change_grade\"\n",
    "    header = {'Authorization': auth_key, 'Content-Type': 'application/json'}\n",
    "    changeGrade = rest_put_raw(url, header, data)\n",
    "    return changeGrade\n",
    "\n",
    "# 등급의 범위는 0 이상 9,999 이하 정수\n",
    "# data format\n",
    "# data = {\n",
    "#     \"commands\": [\n",
    "#         { \"id\": 1, \"grade\": 1900 }\n",
    "#          ...\n",
    "#     ]\n",
    "# }"
   ]
  },
  {
   "cell_type": "code",
   "execution_count": 25,
   "metadata": {},
   "outputs": [],
   "source": [
    "# get score API\n",
    "def scoreAPI():\n",
    "    url = f\"{BASE_URL}/score\"\n",
    "    header = {'Authorization': auth_key, 'Content-Type': 'application/json'}\n",
    "    score = rest_get_raw(url, header)\n",
    "    return score"
   ]
  },
  {
   "cell_type": "code",
   "execution_count": 26,
   "metadata": {},
   "outputs": [],
   "source": [
    "def status():\n",
    "    from pprint import pprint\n",
    "    print(\"@ WAITING LINE\")\n",
    "    pprint(waitingLineAPI())\n",
    "    print()\n",
    "    print(\"@ GAME RESULT\")\n",
    "    pprint(gameResultAPI())"
   ]
  },
  {
   "cell_type": "code",
   "execution_count": null,
   "metadata": {},
   "outputs": [],
   "source": []
  },
  {
   "cell_type": "code",
   "execution_count": null,
   "metadata": {},
   "outputs": [],
   "source": []
  },
  {
   "cell_type": "markdown",
   "metadata": {},
   "source": [
    "## test"
   ]
  },
  {
   "cell_type": "code",
   "execution_count": 54,
   "metadata": {},
   "outputs": [],
   "source": [
    "GRADE_GAP = 2000"
   ]
  },
  {
   "cell_type": "code",
   "execution_count": null,
   "metadata": {},
   "outputs": [],
   "source": []
  },
  {
   "cell_type": "code",
   "execution_count": 57,
   "metadata": {},
   "outputs": [
    {
     "name": "stdout",
     "output_type": "stream",
     "text": [
      "@ WAITING LINE\n",
      "[]\n",
      "\n",
      "@ GAME RESULT\n",
      "[]\n"
     ]
    }
   ],
   "source": [
    "status()"
   ]
  },
  {
   "cell_type": "code",
   "execution_count": 58,
   "metadata": {},
   "outputs": [
    {
     "data": {
      "text/plain": [
       "[{'id': 1, 'grade': 0},\n",
       " {'id': 2, 'grade': 0},\n",
       " {'id': 3, 'grade': 0},\n",
       " {'id': 4, 'grade': 0},\n",
       " {'id': 5, 'grade': 0},\n",
       " {'id': 6, 'grade': 0},\n",
       " {'id': 7, 'grade': 0},\n",
       " {'id': 8, 'grade': 0},\n",
       " {'id': 9, 'grade': 0},\n",
       " {'id': 10, 'grade': 0},\n",
       " {'id': 11, 'grade': 0},\n",
       " {'id': 12, 'grade': 0},\n",
       " {'id': 13, 'grade': 0},\n",
       " {'id': 14, 'grade': 0},\n",
       " {'id': 15, 'grade': 0},\n",
       " {'id': 16, 'grade': 0},\n",
       " {'id': 17, 'grade': 0},\n",
       " {'id': 18, 'grade': 0},\n",
       " {'id': 19, 'grade': 0},\n",
       " {'id': 20, 'grade': 0},\n",
       " {'id': 21, 'grade': 0},\n",
       " {'id': 22, 'grade': 0},\n",
       " {'id': 23, 'grade': 0},\n",
       " {'id': 24, 'grade': 0},\n",
       " {'id': 25, 'grade': 0},\n",
       " {'id': 26, 'grade': 0},\n",
       " {'id': 27, 'grade': 0},\n",
       " {'id': 28, 'grade': 0},\n",
       " {'id': 29, 'grade': 0},\n",
       " {'id': 30, 'grade': 0}]"
      ]
     },
     "execution_count": 58,
     "metadata": {},
     "output_type": "execute_result"
    }
   ],
   "source": [
    "userInfoAPI()"
   ]
  },
  {
   "cell_type": "code",
   "execution_count": 59,
   "metadata": {},
   "outputs": [
    {
     "name": "stdout",
     "output_type": "stream",
     "text": [
      "[]\n"
     ]
    }
   ],
   "source": [
    "# 매칭\n",
    "from pprint import pprint\n",
    "userInfo = userInfoAPI()\n",
    "waitingLine = waitingLineAPI()\n",
    "userDist = [{'id': dic['id'], 'from': dic['from'], 'grade': userInfo[dic['id']-1]['grade']} for dic in waitingLine]\n",
    "userDist.sort(key=lambda x : (x['grade'], x['from']))\n",
    "pprint(userDist)\n",
    "\n",
    "pairs = []\n",
    "idx = 0\n",
    "while idx < len(userDist) - 1:\n",
    "    p1 = userDist[idx]\n",
    "    p2 = userDist[idx + 1]\n",
    "    \n",
    "    if abs(p1['grade'] - p2['grade']) < GRADE_GAP:\n",
    "        pairs.append([p1['id'], p2['id']])\n",
    "        idx += 1\n",
    "    idx += 1"
   ]
  },
  {
   "cell_type": "code",
   "execution_count": null,
   "metadata": {},
   "outputs": [],
   "source": [
    "# 결과 확인 후 그레이드 설정\n"
   ]
  },
  {
   "cell_type": "code",
   "execution_count": null,
   "metadata": {},
   "outputs": [],
   "source": []
  },
  {
   "cell_type": "code",
   "execution_count": 56,
   "metadata": {},
   "outputs": [
    {
     "data": {
      "text/plain": [
       "{'status': 'ready', 'time': 2}"
      ]
     },
     "execution_count": 56,
     "metadata": {},
     "output_type": "execute_result"
    }
   ],
   "source": [
    "data = {\n",
    "    \"pairs\": pairs\n",
    "}\n",
    "matchAPI(data)"
   ]
  },
  {
   "cell_type": "code",
   "execution_count": null,
   "metadata": {},
   "outputs": [],
   "source": []
  },
  {
   "cell_type": "code",
   "execution_count": null,
   "metadata": {},
   "outputs": [],
   "source": []
  },
  {
   "cell_type": "code",
   "execution_count": null,
   "metadata": {},
   "outputs": [],
   "source": []
  },
  {
   "cell_type": "markdown",
   "metadata": {},
   "source": [
    "## total"
   ]
  },
  {
   "cell_type": "code",
   "execution_count": null,
   "metadata": {},
   "outputs": [],
   "source": []
  }
 ],
 "metadata": {
  "kernelspec": {
   "display_name": "Python 3",
   "language": "python",
   "name": "python3"
  },
  "language_info": {
   "codemirror_mode": {
    "name": "ipython",
    "version": 3
   },
   "file_extension": ".py",
   "mimetype": "text/x-python",
   "name": "python",
   "nbconvert_exporter": "python",
   "pygments_lexer": "ipython3",
   "version": "3.7.4"
  }
 },
 "nbformat": 4,
 "nbformat_minor": 2
}
